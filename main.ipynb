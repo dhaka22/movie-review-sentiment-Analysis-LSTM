{
 "cells": [
  {
   "cell_type": "markdown",
   "metadata": {
    "_uuid": "76db574aeb16e48beb90a2728160aa7f36ba5213"
   },
   "source": [
    "First we import important packages like **pandas,nltk,re,os** we use pandas to handle our dataset it is used to take input of test and training data then we import stopwords to remove usnecessary words like is,are,names etc from the dataset we use re to keep only words i will explain this in details where we use re. then we import os for setting directory\n",
    "#if you dont have any of these files then you can download these files from command prompt by using pip install module name\n",
    "for pandas --- pip install pandas\n",
    "for nltk ---- pip install nltk then you have to download stopwords by going to python editor and import nltk then nltk.download() select all from gui or you can make custom download i suggest you to download all.\n",
    "Rest are inbuilt in python(excluding keras i explained thoses below) just import and enjoy."
   ]
  },
  {
   "cell_type": "code",
   "execution_count": 18,
   "metadata": {
    "_cell_guid": "b1076dfc-b9ad-4769-8c92-a6c4dae69d19",
    "_uuid": "8f2839f25d086af736a60e9eeb907d3b93b6e0e5"
   },
   "outputs": [
    {
     "name": "stdout",
     "output_type": "stream",
     "text": [
      "['testData.tsv', 'sampleSubmission.csv', 'labeledTrainData.tsv', 'unlabeledTrainData.tsv']\n"
     ]
    }
   ],
   "source": [
    "import pandas as pd\n",
    "from nltk.corpus import stopwords\n",
    "import re\n",
    "import os\n",
    "print(os.listdir(\"../input\"))"
   ]
  },
  {
   "cell_type": "markdown",
   "metadata": {
    "_uuid": "2dc03d7b5ee247037a6fcbcb0f8030d9bf6337c1"
   },
   "source": [
    "we use pd.read_csv file to create to test and training data set then we use train.head() to take a look at our dataset so that we will know that which colunm contain what values."
   ]
  },
  {
   "cell_type": "code",
   "execution_count": 19,
   "metadata": {
    "_cell_guid": "79c7e3d0-c299-4dcb-8224-4455121ee9b0",
    "_uuid": "d629ff2d2480ee46fbb7e2d37f6b5fab8052498a"
   },
   "outputs": [
    {
     "data": {
      "text/html": [
       "<div>\n",
       "<style scoped>\n",
       "    .dataframe tbody tr th:only-of-type {\n",
       "        vertical-align: middle;\n",
       "    }\n",
       "\n",
       "    .dataframe tbody tr th {\n",
       "        vertical-align: top;\n",
       "    }\n",
       "\n",
       "    .dataframe thead th {\n",
       "        text-align: right;\n",
       "    }\n",
       "</style>\n",
       "<table border=\"1\" class=\"dataframe\">\n",
       "  <thead>\n",
       "    <tr style=\"text-align: right;\">\n",
       "      <th></th>\n",
       "      <th>id</th>\n",
       "      <th>sentiment</th>\n",
       "      <th>review</th>\n",
       "    </tr>\n",
       "  </thead>\n",
       "  <tbody>\n",
       "    <tr>\n",
       "      <th>0</th>\n",
       "      <td>\"5814_8\"</td>\n",
       "      <td>1</td>\n",
       "      <td>\"With all this stuff going down at the moment ...</td>\n",
       "    </tr>\n",
       "    <tr>\n",
       "      <th>1</th>\n",
       "      <td>\"2381_9\"</td>\n",
       "      <td>1</td>\n",
       "      <td>\"\\\"The Classic War of the Worlds\\\" by Timothy ...</td>\n",
       "    </tr>\n",
       "    <tr>\n",
       "      <th>2</th>\n",
       "      <td>\"7759_3\"</td>\n",
       "      <td>0</td>\n",
       "      <td>\"The film starts with a manager (Nicholas Bell...</td>\n",
       "    </tr>\n",
       "    <tr>\n",
       "      <th>3</th>\n",
       "      <td>\"3630_4\"</td>\n",
       "      <td>0</td>\n",
       "      <td>\"It must be assumed that those who praised thi...</td>\n",
       "    </tr>\n",
       "    <tr>\n",
       "      <th>4</th>\n",
       "      <td>\"9495_8\"</td>\n",
       "      <td>1</td>\n",
       "      <td>\"Superbly trashy and wondrously unpretentious ...</td>\n",
       "    </tr>\n",
       "  </tbody>\n",
       "</table>\n",
       "</div>"
      ],
      "text/plain": [
       "         id                        ...                                                                     review\n",
       "0  \"5814_8\"                        ...                          \"With all this stuff going down at the moment ...\n",
       "1  \"2381_9\"                        ...                          \"\\\"The Classic War of the Worlds\\\" by Timothy ...\n",
       "2  \"7759_3\"                        ...                          \"The film starts with a manager (Nicholas Bell...\n",
       "3  \"3630_4\"                        ...                          \"It must be assumed that those who praised thi...\n",
       "4  \"9495_8\"                        ...                          \"Superbly trashy and wondrously unpretentious ...\n",
       "\n",
       "[5 rows x 3 columns]"
      ]
     },
     "execution_count": 19,
     "metadata": {},
     "output_type": "execute_result"
    }
   ],
   "source": [
    "df_train = pd.read_csv(\"../input/labeledTrainData.tsv\", header=0, delimiter=\"\\t\", quoting=3)\n",
    "df_train.head()"
   ]
  },
  {
   "cell_type": "markdown",
   "metadata": {
    "_uuid": "86b7c65cd64954947edfca6623dcad3f63203cd5"
   },
   "source": [
    "here we divided our training dataset into x and y where x is review and y is its curresponding sentiment size of x is (25000,1) and size of y is (25000,1) you can check size by x.shape command."
   ]
  },
  {
   "cell_type": "code",
   "execution_count": 20,
   "metadata": {
    "_uuid": "df7b602997fef54d846582ccbd3103f4b4e0a744"
   },
   "outputs": [],
   "source": [
    "X = df_train.iloc[:, 2].values\n",
    "y = df_train.iloc[:, 1].values"
   ]
  },
  {
   "cell_type": "markdown",
   "metadata": {
    "_uuid": "1ad15b71ce0fc28e810889af29d9125b127ad1da"
   },
   "source": [
    "Here read our test_data and store it in varaible df_test and we store the reviews of test data as X_1 "
   ]
  },
  {
   "cell_type": "code",
   "execution_count": 21,
   "metadata": {
    "_uuid": "24f4c378e74cd62cb43c22effec411a46c8aac7f"
   },
   "outputs": [],
   "source": [
    "df_test = pd.read_csv(\"../input/testData.tsv\", header=0, delimiter=\"\\t\", quoting=3)\n",
    "X_1 = df_test.iloc[:, 1].values"
   ]
  },
  {
   "cell_type": "markdown",
   "metadata": {
    "_uuid": "e7846fb08d122b75a02a782bbea1fb287f54f849"
   },
   "source": [
    "Here we have created a function review_to_words to clean the review words from our review section we remove stop words then we remove all special characters and keep only words. line by line explanation\n",
    "\n",
    "**line1** ----  *\"re.sub(\"[^a-zA-Z]\",\" \", raw_review)\"* in this line we will keep all the alphabetical words which are present in the file name raw_review all special characters are replaced by a space. \n",
    "\n",
    "**line2** ---- * letters_only.lower().split()* convert the string into lowercase string then we use split() which will split the string and return a list of words.\n",
    "\n",
    "**line3** ----  *set(stopwords.words(\"english\"))* create a touple of stop words which are present in nltk stopword library\n",
    "\n",
    "**line4** ----  * [word for word in lower_words if word.isalpha()]* if any special character is left we will remove that by creating a  list comprehension and checking ever word.\n",
    "\n",
    "**line 4** ---- * [ w for w in words if not w in stops]*  here we keep only those words which are not  present in the stop word touple.\n",
    "\n",
    "**line 5** ----  *\" \".join(meaningful_words) * joining all the words back and making a string again.\n"
   ]
  },
  {
   "cell_type": "code",
   "execution_count": 22,
   "metadata": {
    "_uuid": "1e4a375b9840ca6e8f15076b682a31f517e6b689"
   },
   "outputs": [],
   "source": [
    "def review_to_words(raw_review):\n",
    "    letters_only = re.sub(\"[^a-zA-Z]\",\" \", raw_review)\n",
    "    lower_words = letters_only.lower().split()\n",
    "    stops = set(stopwords.words(\"english\"))\n",
    "    words = [word for word in lower_words if word.isalpha()] #removing special character and numbers\n",
    "    meaningful_words = [ w for w in words if not w in stops]\n",
    "    return(\" \".join(meaningful_words))"
   ]
  },
  {
   "cell_type": "markdown",
   "metadata": {
    "_uuid": "7b3eb9c354b96039175382ff6489fc51c09a7964"
   },
   "source": [
    "created a empty list filtered_x and stored the size of X which is out training dataset in total_review, then we apply a for loop to filtere all the reviews present in the training data. "
   ]
  },
  {
   "cell_type": "code",
   "execution_count": 23,
   "metadata": {
    "_uuid": "0fe85b9d8afb1ec81f1e235fd6b756510e0208d8"
   },
   "outputs": [],
   "source": [
    "filtered_x = []\n",
    "total_reviews = X.size  #total number of reviews present or number of rows\n",
    "for i in range(0,total_reviews):\n",
    "    filtered_x.append(review_to_words(X[i]))"
   ]
  },
  {
   "cell_type": "markdown",
   "metadata": {
    "_uuid": "ae9db637a1bbdcf2ab62ae9230158354b39aa01a"
   },
   "source": [
    "Importe train_test_split from sklearn.model_selection so that we can split our training and test data. here we choose the ratio is 80:20 80% training set and 20% validation set.\n",
    "if you don't have sklearn then use pip install sklearn and you are good to go. "
   ]
  },
  {
   "cell_type": "code",
   "execution_count": 24,
   "metadata": {
    "_uuid": "e75c4c904d68291f5e446fa77502fdbb2e15ad71"
   },
   "outputs": [],
   "source": [
    "from sklearn.model_selection import train_test_split\n",
    "X_train, X_val, Y_train, Y_val = train_test_split( filtered_x, y, test_size = 0.2, random_state = 0)\n",
    "x_test = df_test[\"review\"].map(review_to_words)"
   ]
  },
  {
   "cell_type": "markdown",
   "metadata": {
    "_uuid": "159a0e87c32e5467a6cac212bfbd573dd272c4ca"
   },
   "source": [
    "we import Tokenizer and pad_sequence from keras.preprocessig Tokenizer is used for text preprocessing.\n",
    "we tokenize the words in numeric values here we can choose how many words we want to tokenize so we choose 2000 so most frequenty comming 2000 words will be tokenized.\n",
    "\n",
    "**how tokenizer works**\n",
    "The Tokenizer stores everything in the word_index during fit_on_texts. Then, when calling the texts_to_sequences method, only the top num_words are considered.\n",
    "\n",
    "Then we pad the sequence by importing pad_sequence it is  used to ensure that all sequences in a list have the same length. here wh choose maxlen = 400 you can choose any other value "
   ]
  },
  {
   "cell_type": "code",
   "execution_count": 25,
   "metadata": {
    "_uuid": "a2dba48c931bbcd3d2a3b2a5e6f20b7664abe33c"
   },
   "outputs": [],
   "source": [
    "from keras.preprocessing.text import Tokenizer\n",
    "from keras.preprocessing.sequence import pad_sequences"
   ]
  },
  {
   "cell_type": "markdown",
   "metadata": {
    "_uuid": "ef21dc293d9b611ee2e3c651168438023b5f5e3b"
   },
   "source": [
    "Here we converted all our words to numbers so that our model can understand"
   ]
  },
  {
   "cell_type": "code",
   "execution_count": 26,
   "metadata": {
    "_uuid": "b18db7929905c4f973e62bfe835c1d6ffc68484b"
   },
   "outputs": [],
   "source": [
    "tokenizer = Tokenizer(num_words=2000) #tokenised to 2000 most frequent words\n",
    "tokenizer.fit_on_texts(filtered_x)\n",
    "# padding sequence to the limit is 500 words so it will look 500 words back \n",
    "train_reviews_tokenized = tokenizer.texts_to_sequences(X_train)\n",
    "X_train = pad_sequences(train_reviews_tokenized, maxlen=400)\n",
    "val_review_tokenized = tokenizer.texts_to_sequences(X_val)\n",
    "X_val = pad_sequences(val_review_tokenized, maxlen=400)\n",
    "test_review_tokenized = tokenizer.texts_to_sequences(x_test)\n",
    "x_test = pad_sequences(test_review_tokenized, maxlen=400)"
   ]
  },
  {
   "cell_type": "markdown",
   "metadata": {
    "_uuid": "9b716b785da9539a07c5ef33a4bef6fd90cf5feb"
   },
   "source": [
    "It's time to build our RNN model we use sequential model and for layers we use Dense and Embedding and LSTM layers we can import all these from keras \n",
    "if you dont have all these then use pip install keras and you are good to go."
   ]
  },
  {
   "cell_type": "code",
   "execution_count": 27,
   "metadata": {
    "_uuid": "c0a98c7354b35aa9330c16a0b241bf812f5de12c"
   },
   "outputs": [],
   "source": [
    "from keras.models import Sequential\n",
    "from keras.layers import Dense, Embedding\n",
    "from keras.layers import LSTM"
   ]
  },
  {
   "cell_type": "markdown",
   "metadata": {
    "_uuid": "45bdaf969ee74516344fd611a658872ee333e360"
   },
   "source": [
    "**Embedding** --- The weights of the Embedding layer are of the shape (vocabulary_size, embedding_dimension). For each training sample, its input are integers,so here our vocabulary size is 2000 and we choose 128 embedding_dimensions we can also call thses as hidden neurons.\n",
    "\n",
    "**LSTM dropout explanation:**\n",
    "dropout: Float between 0 and 1. Fraction of the units to drop for the linear transformation of the inputs.\n",
    "recurrent_dropout: Float between 0 and 1. Fraction of the units to drop for the linear transformation of the recurrent state.\n",
    "in recurrent dropout the connections between the recurrent units will be dropped we we have choose 20% of the linear and recurrent connection will dropout every iteration.\n",
    "\n",
    "we have used sigmoid activation because its a binary classification function.and loss is calculated by binary_crossentropy function and here we have used adam optimizer.it is one of the best optimizer present in keras to tackle classification problems."
   ]
  },
  {
   "cell_type": "code",
   "execution_count": 28,
   "metadata": {
    "_uuid": "6a3ff2114b927d47ee7f718f8bc9c1426462e0c1"
   },
   "outputs": [],
   "source": [
    "model = Sequential()\n",
    "model.add(Embedding(20000,128)) #20000 words and funneling them into 128 hidden neurons\n",
    "model.add(LSTM(128,dropout = 0.2, recurrent_dropout = 0.2))\n",
    "model.add(Dense(1, activation = \"sigmoid\"))\n",
    "#compiling model\n",
    "model.compile(optimizer='adam', loss='binary_crossentropy', metrics=['accuracy'])"
   ]
  },
  {
   "cell_type": "markdown",
   "metadata": {
    "_uuid": "d1c7db67a08a6b3822a50263e5f7acf61e9e0a7e"
   },
   "source": [
    "now we fit our model with a batch size of 32 and number of epoch is 8 after this training will start."
   ]
  },
  {
   "cell_type": "code",
   "execution_count": null,
   "metadata": {
    "_uuid": "ee5ae24cc0dda79c50d3020bd5e40337d46b48ee"
   },
   "outputs": [],
   "source": [
    "model.fit(X_train, Y_train, batch_size = 32, epochs = 8, validation_data=[X_val, Y_val])"
   ]
  },
  {
   "cell_type": "markdown",
   "metadata": {},
   "source": [
    "predictiong using model.predict"
   ]
  },
  {
   "cell_type": "code",
   "execution_count": null,
   "metadata": {},
   "outputs": [],
   "source": [
    "prediction = model.predict(x_test)\n",
    "y_pred = (prediction > 0.5)"
   ]
  },
  {
   "cell_type": "code",
   "execution_count": null,
   "metadata": {
    "_uuid": "e43f59dc330c5b9ba371a3e506062bc006f9f373"
   },
   "outputs": [],
   "source": [
    "df_test[\"sentiment\"] = df_test[\"id\"].map(lambda x: 1 if int(x.strip('\"').split(\"_\")[1]) >= 5 else 0)\n",
    "y_test = df_test[\"sentiment\"]"
   ]
  },
  {
   "cell_type": "markdown",
   "metadata": {},
   "source": [
    "calculating F1 score and confusion matrix"
   ]
  },
  {
   "cell_type": "code",
   "execution_count": null,
   "metadata": {},
   "outputs": [],
   "source": [
    "from sklearn.metrics import f1_score, confusion_matrix\n",
    "print('F1-score: {0}'.format(f1_score(y_pred, y_test)))\n",
    "print('Confusion matrix:')\n",
    "confusion_matrix(y_pred, y_test)"
   ]
  }
 ],
 "metadata": {
  "kernelspec": {
   "display_name": "Python 3",
   "language": "python",
   "name": "python3"
  },
  "language_info": {
   "codemirror_mode": {
    "name": "ipython",
    "version": 3
   },
   "file_extension": ".py",
   "mimetype": "text/x-python",
   "name": "python",
   "nbconvert_exporter": "python",
   "pygments_lexer": "ipython3",
   "version": "3.6.4"
  }
 },
 "nbformat": 4,
 "nbformat_minor": 1
}
